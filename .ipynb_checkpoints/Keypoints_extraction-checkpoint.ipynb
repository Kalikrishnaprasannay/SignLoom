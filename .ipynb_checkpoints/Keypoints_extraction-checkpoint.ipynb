{
 "cells": [
  {
   "cell_type": "code",
   "execution_count": 1,
   "id": "d72f42ff-fc30-4008-be80-09e389401d78",
   "metadata": {},
   "outputs": [
    {
     "ename": "ModuleNotFoundError",
     "evalue": "No module named 'mediapipe'",
     "output_type": "error",
     "traceback": [
      "\u001b[1;31m---------------------------------------------------------------------------\u001b[0m",
      "\u001b[1;31mModuleNotFoundError\u001b[0m                       Traceback (most recent call last)",
      "Cell \u001b[1;32mIn[1], line 2\u001b[0m\n\u001b[0;32m      1\u001b[0m \u001b[38;5;28;01mimport\u001b[39;00m \u001b[38;5;21;01mcv2\u001b[39;00m\n\u001b[1;32m----> 2\u001b[0m \u001b[38;5;28;01mimport\u001b[39;00m \u001b[38;5;21;01mmediapipe\u001b[39;00m \u001b[38;5;28;01mas\u001b[39;00m \u001b[38;5;21;01mmp\u001b[39;00m\n\u001b[0;32m      3\u001b[0m \u001b[38;5;28;01mimport\u001b[39;00m \u001b[38;5;21;01mos\u001b[39;00m\n\u001b[0;32m      4\u001b[0m \u001b[38;5;28;01mimport\u001b[39;00m \u001b[38;5;21;01mjson\u001b[39;00m\n",
      "\u001b[1;31mModuleNotFoundError\u001b[0m: No module named 'mediapipe'"
     ]
    }
   ],
   "source": [
    "import cv2\n",
    "import mediapipe as mp\n",
    "import os\n",
    "import json\n",
    "\n",
    "# Initialize MediaPipe Holistic\n",
    "mp_holistic = mp.solutions.holistic\n",
    "\n",
    "# Function to extract keypoints from an image\n",
    "def extract_keypoints(image_path):\n",
    "    image = cv2.imread(image_path)\n",
    "    image_rgb = cv2.cvtColor(image, cv2.COLOR_BGR2RGB)\n",
    "    with mp_holistic.Holistic(static_image_mode=True) as holistic:\n",
    "        results = holistic.process(image_rgb)\n",
    "        keypoints = {}\n",
    "\n",
    "        # Extract pose landmarks\n",
    "        if results.pose_landmarks:\n",
    "            keypoints['pose'] = [(lm.x, lm.y, lm.z) for lm in results.pose_landmarks.landmark]\n",
    "\n",
    "        # Extract left hand landmarks\n",
    "        if results.left_hand_landmarks:\n",
    "            keypoints['left_hand'] = [(lm.x, lm.y, lm.z) for lm in results.left_hand_landmarks.landmark]\n",
    "\n",
    "        # Extract right hand landmarks\n",
    "        if results.right_hand_landmarks:\n",
    "            keypoints['right_hand'] = [(lm.x, lm.y, lm.z) for lm in results.right_hand_landmarks.landmark]\n",
    "\n",
    "        # Extract face landmarks\n",
    "        if results.face_landmarks:\n",
    "            keypoints['face'] = [(lm.x, lm.y, lm.z) for lm in results.face_landmarks.landmark]\n",
    "\n",
    "        return keypoints\n",
    "\n",
    "# Process all phrase folders\n",
    "def process_all_phrases(base_folder, output_folder):\n",
    "    if not os.path.exists(output_folder):\n",
    "        os.makedirs(output_folder)\n",
    "\n",
    "    for phrase_folder in os.listdir(base_folder):\n",
    "        phrase_path = os.path.join(base_folder, phrase_folder)\n",
    "        if os.path.isdir(phrase_path):\n",
    "            phrase_keypoints = {}\n",
    "            for image_name in os.listdir(phrase_path):\n",
    "                if image_name.endswith('.jpeg'):\n",
    "                    image_path = os.path.join(phrase_path, image_name)\n",
    "                    keypoints = extract_keypoints(image_path)\n",
    "                    phrase_keypoints[image_name] = keypoints\n",
    "                    print(f\"Extracted from: {phrase_folder}/{image_name}\")\n",
    "\n",
    "            # Save keypoints for each phrase\n",
    "            output_file = os.path.join(output_folder, f\"{phrase_folder}_keypoints.json\")\n",
    "            with open(output_file, 'w') as json_file:\n",
    "                json.dump(phrase_keypoints, json_file, indent=4)\n",
    "            print(f\"Saved keypoints for '{phrase_folder}' to {output_file}\")\n",
    "\n",
    "# ==== 🔧 Update These Paths ====\n",
    "dataset_folder = r'path_to_your_dataset\\SData'\n",
    "output_folder = r'path_to_save\\keypoints_output'\n",
    "\n",
    "# Process the entire dataset\n",
    "process_all_phrases(dataset_folder, output_folder)\n"
   ]
  },
  {
   "cell_type": "code",
   "execution_count": null,
   "id": "9e49f8f0-3792-48d7-a451-311240593479",
   "metadata": {},
   "outputs": [],
   "source": []
  }
 ],
 "metadata": {
  "kernelspec": {
   "display_name": "Python 3.10 (hand_env)",
   "language": "python",
   "name": "hand_env"
  },
  "language_info": {
   "codemirror_mode": {
    "name": "ipython",
    "version": 3
   },
   "file_extension": ".py",
   "mimetype": "text/x-python",
   "name": "python",
   "nbconvert_exporter": "python",
   "pygments_lexer": "ipython3",
   "version": "3.11.0"
  }
 },
 "nbformat": 4,
 "nbformat_minor": 5
}
